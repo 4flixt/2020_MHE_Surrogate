{
 "cells": [
  {
   "cell_type": "markdown",
   "metadata": {},
   "source": [
    "# Getting started\n",
    "\n",
    "In this Jupyter Notebook we illustrate the core functionalities of **do mpc**.\n",
    "\n",
    "We start by importing the required modules, most notably `do_mpc`. "
   ]
  },
  {
   "cell_type": "code",
   "execution_count": 1,
   "metadata": {},
   "outputs": [],
   "source": [
    "import numpy as np\n",
    "\n",
    "# Add to path:\n",
    "import sys\n",
    "sys.path.append('../../')\n",
    "\n",
    "# Import do_mpc package:\n",
    "import do_mpc\n",
    "\n",
    "from IPython.core.display import SVG"
   ]
  },
  {
   "cell_type": "markdown",
   "metadata": {},
   "source": [
    "One of the essential paradigms of **do mpc** is a modular architecture, where individual building bricks can be used independently our jointly, depending on the application. \n",
    "\n",
    "This modular architecture is showcased in the flow chart below."
   ]
  },
  {
   "cell_type": "code",
   "execution_count": 2,
   "metadata": {},
   "outputs": [
    {
     "data": {
      "image/svg+xml": [
       "<svg content=\"&lt;mxfile host=&quot;www.draw.io&quot; modified=&quot;2019-12-22T12:16:38.708Z&quot; agent=&quot;Mozilla/5.0 (X11; Ubuntu; Linux x86_64; rv:71.0) Gecko/20100101 Firefox/71.0&quot; version=&quot;12.4.3&quot; etag=&quot;1EYSBF4pn-xm8MzebCFF&quot; type=&quot;device&quot; pages=&quot;1&quot;&gt;&lt;diagram id=&quot;fO7rPra6QufVfZ4nF8ep&quot;&gt;7VnLcpswFP0aL9vhKcgysdN20U4740WTpQwXUAOIChHjfn2FEQgMSdMWgzOTTSIdXQnpHN0HeGWuk/Ijw1n0hfoQrwzNL1fmZmUYtu2IvxVwqAHkohoIGfFrSFfAlvwCCWoSLYgPec+QUxpzkvVBj6YpeLyHYcbovm8W0Lj/1AyHMAC2Ho6H6Hfi86hGXVtT+CcgYdQ8WdfkSIIbYwnkEfbpvgOZtytzzSjldSsp1xBX3DW81PM+PDHaboxByl8ywZDb4IfmbOCLo8ouZTyiIU1xfKvQG0aL1IdqAU30lM1nSjMB6gL8AZwfpG644FRAEU9iOQol4XdyetW+r9rvbdnblJ2hzaHppJwd7pRh1b3vjqlpx14zrz5fdageQzktmCchW94gzEKQpLlDHvVWHXGrgSYgniJMGMSYk8f+6ljer7C1UxKIhlRhXBFzUUVaFe47I5egiD5yteeSxFpSEv1inUS3lpNEbucRx4VcdGWgWGziJqBiL12x0M+CNgPv8iPd18JAR1mpBkUrrP4ndaqqlxKbqFerxwa3oK/xPiIcthk+MrYXea+vZ0DieE1jyo5zTR+DG3gCzzmjD9AZQZ4Lu6B93iMwDuWT4f0JwuWENmMe2kxU9/cqbelNLoo6KcvS/l8j9JZbmkTScxt7ObdxXmFyMebQ5AwJ/zj1mjF86BhklKQ876z8rQKUw+pm32HN0/rt1N551l406h2o29Ee5UUXxj1TnKUZJ4mwYbPEWhtc3xqLta6xMxGaJtaeKGFoM4baq7dQ21aIPb9Gy8XaJtVefrD9V3IXfEtq9jN5YMpJUoi90lkCU+B64I0WgTvXtmylzaRF4KyRSX/7wqDelHre4yzoPa/xI4MziyqXUgha+t8VguaZC8GGrMkDLuSiEpwr4IIuakFnLOBeIcfEE1WCpr1kwB1+Gtlgjgc05hHOqqa4RcCEG2+FBMfP3n+idIe9h/AowteCxySFcarnKbqNE6btIdPuCNFoCqLRZRA9TxGhowWZdi6D6Zmih7Yg0+d63/doGpCwYCJj0nSW0joANO4VvnO10ybyitOkaw2lsrRpAr3oqp8F6wSufls1b38D&lt;/diagram&gt;&lt;/mxfile&gt;\" height=\"271px\" version=\"1.1\" viewBox=\"-0.5 -0.5 451 271\" width=\"451px\" xmlns=\"http://www.w3.org/2000/svg\" xmlns:xlink=\"http://www.w3.org/1999/xlink\"><defs/><g><path d=\"M 190 20 L 110 20 L 110 83.63\" fill=\"none\" pointer-events=\"stroke\" stroke=\"#000000\" stroke-miterlimit=\"10\"/><path d=\"M 110 88.88 L 106.5 81.88 L 110 83.63 L 113.5 81.88 Z\" fill=\"#000000\" pointer-events=\"all\" stroke=\"#000000\" stroke-miterlimit=\"10\"/><path d=\"M 250 40 L 250 83.63\" fill=\"none\" pointer-events=\"stroke\" stroke=\"#000000\" stroke-miterlimit=\"10\"/><path d=\"M 250 88.88 L 246.5 81.88 L 250 83.63 L 253.5 81.88 Z\" fill=\"#000000\" pointer-events=\"all\" stroke=\"#000000\" stroke-miterlimit=\"10\"/><path d=\"M 310 20 L 390 20 L 390 83.63\" fill=\"none\" pointer-events=\"stroke\" stroke=\"#000000\" stroke-miterlimit=\"10\"/><path d=\"M 390 88.88 L 386.5 81.88 L 390 83.63 L 393.5 81.88 Z\" fill=\"#000000\" pointer-events=\"all\" stroke=\"#000000\" stroke-miterlimit=\"10\"/><rect fill=\"#dae8fc\" height=\"40\" pointer-events=\"all\" stroke=\"#6c8ebf\" width=\"120\" x=\"190\" y=\"0\"/><g transform=\"translate(227.5,11.5)\"><switch><foreignObject height=\"17\" pointer-events=\"all\" requiredFeatures=\"http://www.w3.org/TR/SVG11/feature#Extensibility\" style=\"overflow:visible;\" width=\"44\"><div style=\"display: inline-block; font-size: 12px; font-family: Helvetica; color: rgb(0, 0, 0); line-height: 1.2; vertical-align: top; width: 45px; white-space: nowrap; overflow-wrap: normal; text-align: center;\" xmlns=\"http://www.w3.org/1999/xhtml\"><div style=\"display:inline-block;text-align:inherit;text-decoration:inherit;white-space:normal;\" xmlns=\"http://www.w3.org/1999/xhtml\"><font style=\"font-size: 16px\">model</font></div></div></foreignObject><text fill=\"#000000\" font-family=\"Helvetica\" font-size=\"12px\" text-anchor=\"middle\" x=\"22\" y=\"15\">[Not supported by viewer]</text></switch></g><path d=\"M 50 110 L 40 110 L 40 133.63\" fill=\"none\" pointer-events=\"stroke\" stroke=\"#000000\" stroke-miterlimit=\"10\"/><path d=\"M 40 138.88 L 36.5 131.88 L 40 133.63 L 43.5 131.88 Z\" fill=\"#000000\" pointer-events=\"all\" stroke=\"#000000\" stroke-miterlimit=\"10\"/><path d=\"M 110 130 L 110 210 L 150 210 L 150 223.63\" fill=\"none\" pointer-events=\"stroke\" stroke=\"#000000\" stroke-miterlimit=\"10\"/><path d=\"M 150 228.88 L 146.5 221.88 L 150 223.63 L 153.5 221.88 Z\" fill=\"#000000\" pointer-events=\"all\" stroke=\"#000000\" stroke-miterlimit=\"10\"/><rect fill=\"#d5e8d4\" height=\"40\" pointer-events=\"all\" stroke=\"#82b366\" width=\"120\" x=\"50\" y=\"90\"/><g transform=\"translate(77.5,101.5)\"><switch><foreignObject height=\"17\" pointer-events=\"all\" requiredFeatures=\"http://www.w3.org/TR/SVG11/feature#Extensibility\" style=\"overflow:visible;\" width=\"65\"><div style=\"display: inline-block; font-size: 12px; font-family: Helvetica; color: rgb(0, 0, 0); line-height: 1.2; vertical-align: top; width: 66px; white-space: nowrap; overflow-wrap: normal; text-align: center;\" xmlns=\"http://www.w3.org/1999/xhtml\"><div style=\"display:inline-block;text-align:inherit;text-decoration:inherit;white-space:normal;\" xmlns=\"http://www.w3.org/1999/xhtml\"><font style=\"font-size: 16px\">optimizer</font></div></div></foreignObject><text fill=\"#000000\" font-family=\"Helvetica\" font-size=\"12px\" text-anchor=\"middle\" x=\"33\" y=\"15\">[Not supported by viewer]</text></switch></g><path d=\"M 190 110 L 180 110 L 180 133.63\" fill=\"none\" pointer-events=\"stroke\" stroke=\"#000000\" stroke-miterlimit=\"10\"/><path d=\"M 180 138.88 L 176.5 131.88 L 180 133.63 L 183.5 131.88 Z\" fill=\"#000000\" pointer-events=\"all\" stroke=\"#000000\" stroke-miterlimit=\"10\"/><path d=\"M 250 130 L 250 223.63\" fill=\"none\" pointer-events=\"stroke\" stroke=\"#000000\" stroke-miterlimit=\"10\"/><path d=\"M 250 228.88 L 246.5 221.88 L 250 223.63 L 253.5 221.88 Z\" fill=\"#000000\" pointer-events=\"all\" stroke=\"#000000\" stroke-miterlimit=\"10\"/><rect fill=\"#f8cecc\" height=\"40\" pointer-events=\"all\" stroke=\"#b85450\" width=\"120\" x=\"190\" y=\"90\"/><g transform=\"translate(217.5,101.5)\"><switch><foreignObject height=\"17\" pointer-events=\"all\" requiredFeatures=\"http://www.w3.org/TR/SVG11/feature#Extensibility\" style=\"overflow:visible;\" width=\"65\"><div style=\"display: inline-block; font-size: 12px; font-family: Helvetica; color: rgb(0, 0, 0); line-height: 1.2; vertical-align: top; width: 66px; white-space: nowrap; overflow-wrap: normal; text-align: center;\" xmlns=\"http://www.w3.org/1999/xhtml\"><div style=\"display:inline-block;text-align:inherit;text-decoration:inherit;white-space:normal;\" xmlns=\"http://www.w3.org/1999/xhtml\"><font style=\"font-size: 16px\">simulator</font></div></div></foreignObject><text fill=\"#000000\" font-family=\"Helvetica\" font-size=\"12px\" text-anchor=\"middle\" x=\"33\" y=\"15\">[Not supported by viewer]</text></switch></g><path d=\"M 330 110 L 320 110 L 320 133.63\" fill=\"none\" pointer-events=\"stroke\" stroke=\"#000000\" stroke-miterlimit=\"10\"/><path d=\"M 320 138.88 L 316.5 131.88 L 320 133.63 L 323.5 131.88 Z\" fill=\"#000000\" pointer-events=\"all\" stroke=\"#000000\" stroke-miterlimit=\"10\"/><path d=\"M 390 130 L 390 210 L 350 210 L 350 223.63\" fill=\"none\" pointer-events=\"stroke\" stroke=\"#000000\" stroke-miterlimit=\"10\"/><path d=\"M 350 228.88 L 346.5 221.88 L 350 223.63 L 353.5 221.88 Z\" fill=\"#000000\" pointer-events=\"all\" stroke=\"#000000\" stroke-miterlimit=\"10\"/><rect fill=\"#e1d5e7\" height=\"40\" pointer-events=\"all\" stroke=\"#9673a6\" width=\"120\" x=\"330\" y=\"90\"/><g transform=\"translate(356.5,101.5)\"><switch><foreignObject height=\"17\" pointer-events=\"all\" requiredFeatures=\"http://www.w3.org/TR/SVG11/feature#Extensibility\" style=\"overflow:visible;\" width=\"66\"><div style=\"display: inline-block; font-size: 12px; font-family: Helvetica; color: rgb(0, 0, 0); line-height: 1.2; vertical-align: top; width: 67px; white-space: nowrap; overflow-wrap: normal; text-align: center;\" xmlns=\"http://www.w3.org/1999/xhtml\"><div style=\"display:inline-block;text-align:inherit;text-decoration:inherit;white-space:normal;\" xmlns=\"http://www.w3.org/1999/xhtml\"><font style=\"font-size: 16px\">estimator</font></div></div></foreignObject><text fill=\"#000000\" font-family=\"Helvetica\" font-size=\"12px\" text-anchor=\"middle\" x=\"33\" y=\"15\">[Not supported by viewer]</text></switch></g><rect fill=\"#d5e8d4\" height=\"60\" pointer-events=\"all\" stroke=\"#82b366\" width=\"80\" x=\"0\" y=\"140\"/><path d=\"M 0 160 L 80 160\" fill=\"none\" pointer-events=\"all\" stroke=\"#82b366\" stroke-miterlimit=\"10\"/><path d=\"M 20 140 L 20 200\" fill=\"none\" pointer-events=\"all\" stroke=\"#82b366\" stroke-miterlimit=\"10\"/><g transform=\"translate(27.5,163.5)\"><switch><foreignObject height=\"12\" pointer-events=\"all\" requiredFeatures=\"http://www.w3.org/TR/SVG11/feature#Extensibility\" style=\"overflow:visible;\" width=\"25\"><div style=\"display: inline-block; font-size: 12px; font-family: Helvetica; color: rgb(0, 0, 0); line-height: 1.2; vertical-align: top; width: 26px; white-space: nowrap; overflow-wrap: normal; text-align: center;\" xmlns=\"http://www.w3.org/1999/xhtml\"><div style=\"display:inline-block;text-align:inherit;text-decoration:inherit;white-space:normal;\" xmlns=\"http://www.w3.org/1999/xhtml\">Data</div></div></foreignObject><text fill=\"#000000\" font-family=\"Helvetica\" font-size=\"12px\" text-anchor=\"middle\" x=\"13\" y=\"12\">Data</text></switch></g><rect fill=\"#f8cecc\" height=\"60\" pointer-events=\"all\" stroke=\"#b85450\" width=\"80\" x=\"140\" y=\"140\"/><path d=\"M 140 160 L 220 160\" fill=\"none\" pointer-events=\"all\" stroke=\"#b85450\" stroke-miterlimit=\"10\"/><path d=\"M 160 140 L 160 200\" fill=\"none\" pointer-events=\"all\" stroke=\"#b85450\" stroke-miterlimit=\"10\"/><g transform=\"translate(167.5,163.5)\"><switch><foreignObject height=\"12\" pointer-events=\"all\" requiredFeatures=\"http://www.w3.org/TR/SVG11/feature#Extensibility\" style=\"overflow:visible;\" width=\"25\"><div style=\"display: inline-block; font-size: 12px; font-family: Helvetica; color: rgb(0, 0, 0); line-height: 1.2; vertical-align: top; width: 26px; white-space: nowrap; overflow-wrap: normal; text-align: center;\" xmlns=\"http://www.w3.org/1999/xhtml\"><div style=\"display:inline-block;text-align:inherit;text-decoration:inherit;white-space:normal;\" xmlns=\"http://www.w3.org/1999/xhtml\">Data</div></div></foreignObject><text fill=\"#000000\" font-family=\"Helvetica\" font-size=\"12px\" text-anchor=\"middle\" x=\"13\" y=\"12\">Data</text></switch></g><rect fill=\"#e1d5e7\" height=\"60\" pointer-events=\"all\" stroke=\"#9673a6\" width=\"80\" x=\"280\" y=\"140\"/><path d=\"M 280 160 L 360 160\" fill=\"none\" pointer-events=\"all\" stroke=\"#9673a6\" stroke-miterlimit=\"10\"/><path d=\"M 300 140 L 300 200\" fill=\"none\" pointer-events=\"all\" stroke=\"#9673a6\" stroke-miterlimit=\"10\"/><g transform=\"translate(307.5,163.5)\"><switch><foreignObject height=\"12\" pointer-events=\"all\" requiredFeatures=\"http://www.w3.org/TR/SVG11/feature#Extensibility\" style=\"overflow:visible;\" width=\"25\"><div style=\"display: inline-block; font-size: 12px; font-family: Helvetica; color: rgb(0, 0, 0); line-height: 1.2; vertical-align: top; width: 26px; white-space: nowrap; overflow-wrap: normal; text-align: center;\" xmlns=\"http://www.w3.org/1999/xhtml\"><div style=\"display:inline-block;text-align:inherit;text-decoration:inherit;white-space:normal;\" xmlns=\"http://www.w3.org/1999/xhtml\">Data</div></div></foreignObject><text fill=\"#000000\" font-family=\"Helvetica\" font-size=\"12px\" text-anchor=\"middle\" x=\"13\" y=\"12\">Data</text></switch></g><rect fill=\"#ffe6cc\" height=\"40\" pointer-events=\"all\" stroke=\"#d79b00\" width=\"400\" x=\"50\" y=\"230\"/><g transform=\"translate(203.5,241.5)\"><switch><foreignObject height=\"17\" pointer-events=\"all\" requiredFeatures=\"http://www.w3.org/TR/SVG11/feature#Extensibility\" style=\"overflow:visible;\" width=\"92\"><div style=\"display: inline-block; font-size: 12px; font-family: Helvetica; color: rgb(0, 0, 0); line-height: 1.2; vertical-align: top; width: 93px; white-space: nowrap; overflow-wrap: normal; text-align: center;\" xmlns=\"http://www.w3.org/1999/xhtml\"><div style=\"display:inline-block;text-align:inherit;text-decoration:inherit;white-space:normal;\" xmlns=\"http://www.w3.org/1999/xhtml\"><font style=\"font-size: 16px\">configuration</font></div></div></foreignObject><text fill=\"#000000\" font-family=\"Helvetica\" font-size=\"12px\" text-anchor=\"middle\" x=\"46\" y=\"15\">[Not supported by viewer]</text></switch></g></g></svg>"
      ],
      "text/plain": [
       "<IPython.core.display.SVG object>"
      ]
     },
     "execution_count": 2,
     "metadata": {},
     "output_type": "execute_result"
    }
   ],
   "source": [
    "SVG(filename='./static/do_mpc_flowchart.svg')"
   ]
  },
  {
   "cell_type": "markdown",
   "metadata": {},
   "source": [
    "In the following we will present the configuration, setup and connection between these blocks, starting with the `model`. "
   ]
  },
  {
   "cell_type": "markdown",
   "metadata": {},
   "source": [
    "## Example system"
   ]
  },
  {
   "cell_type": "markdown",
   "metadata": {},
   "source": [
    "First, we introduce a simple system for which we setup **do mpc**. We want to control a triple mass spring system as depicted below:\n",
    "![test](static/triple_mass_spring.png)\n",
    "\n",
    "Three rotating discs are connected via springs and we denote their angles as $\\phi_1, \\phi_2, \\phi_3$.\n",
    "The two outermost discs are each connected to a stepper motor with additional springs. The stepper motor angles ($\\phi_{m,1}$ and $\\phi_{m,2}$ are used as inputs to the system. Relevant parameters of the system are the inertia $\\Theta$ of the three discs, the spring constants $c$ as well as the damping factors $d$. \n",
    "\n",
    "The second degree ODE of this system can be written as follows:\n",
    "\n",
    "$$\n",
    "\\Theta_1 \\ddot{\\phi}_1 = c_1 \\left(\\phi_1 - \\phi_{m,1} \\right) -c_2 \\left(\\phi_1 - \\phi_2 \\right)- d_1 \\dot{\\phi}_1\\\\\n",
    "\\Theta_2 \\ddot{\\phi}_2 = c_2 \\left(\\phi_2 - \\phi_{1} \\right) -c_3 \\left(\\phi_2 - \\phi_3 \\right)- d_2 \\dot{\\phi}_2\\\\\n",
    "\\Theta_3 \\ddot{\\phi}_3 = c_3 \\left(\\phi_3 - \\phi_2 \\right) -c_4 \\left(\\phi_3 - \\phi_{m,2} \\right)- d_3 \\dot{\\phi}_3\n",
    "$$"
   ]
  },
  {
   "cell_type": "markdown",
   "metadata": {},
   "source": [
    "## Creating the model"
   ]
  },
  {
   "cell_type": "markdown",
   "metadata": {},
   "source": [
    "As indicated above, the `model` block is essential for the application of **do mpc**.\n",
    "In mathmatical terms the model is defined either as a continuous ordinary differential equation (ODE), a differential algebraic equation (DAE) or a discrete equation).\n",
    "\n",
    "In the case of an DAE/ODE we write:\n",
    "\n",
    "$$\n",
    "\\frac{\\partial x}{\\partial t} = f(x,u,z,p)\\\\\n",
    "0 = g(x,u,z,p)\\\\\n",
    "y = h(x,u,z,p)\n",
    "$$\n",
    "\n",
    "We denote $x\\in \\mathbb{R}^{n_x}$ as the states, $u \\in \\mathbb{R}^{n_u}$ as the inputs, $z\\in \\mathbb{R}^{n_z}$ the algebraic states and $p \\in \\mathbb{R}^{n_p}$ as parameters."
   ]
  },
  {
   "cell_type": "markdown",
   "metadata": {},
   "source": [
    "We reformulate the second order ODEs above as the following first order ODEs, be introducing the following states:\n",
    "\n",
    "$$\n",
    "x_1 = \\phi_1\\\\\n",
    "x_2 = \\phi_2\\\\\n",
    "x_3 = \\phi_3\\\\\n",
    "x_4 = \\dot{\\phi}_1\\\\\n",
    "x_5 = \\dot{\\phi}_2\\\\\n",
    "x_6 = \\dot{\\phi}_3\\\\\n",
    "$$\n",
    "\n",
    "and derive the right-hand-side function $f(x,u,z,p)$ as:\n",
    "\n",
    "$$\n",
    "\\dot{x}_1 = x_4\\\\\n",
    "\\dot{x}_2 = x_5\\\\\n",
    "\\dot{x}_3 = x_6\\\\\n",
    "\\dot{x}_4 = \\frac{c_1}{\\Theta_1} \\left(x_1 - u_1 \\right) -\\frac{c_2}{\\Theta_1} \\left(x1 - x_2 \\right)- \\frac{d_1}{\\Theta_1} x_4\\\\\n",
    "\\dot{x}_5 = \\frac{c_2}{\\Theta_2} \\left(x_2 - x_1 \\right) -\\frac{c_3}{\\Theta_2} \\left(x_2 - x_3 \\right)- \\frac{d_2}{\\Theta_2} x_5\\\\\n",
    "\\dot{x}_6 = \\frac{c_3}{\\Theta_3} \\left(x_3 - x_2 \\right) -\\frac{c_4}{\\Theta_3} \\left(x_4 - u_2 \\right)- \\frac{d_3}{\\Theta_3} x_6\\\\\n",
    "$$\n",
    "\n",
    "With this theoretical background we can start configuring the **do mpc** `model` object."
   ]
  },
  {
   "cell_type": "markdown",
   "metadata": {},
   "source": [
    "First, we need to decide on the model type. For the given example, we are working with a continuous model."
   ]
  },
  {
   "cell_type": "code",
   "execution_count": 3,
   "metadata": {},
   "outputs": [],
   "source": [
    "model_type = 'continuous' # either 'discrete' or 'continuous'\n",
    "model = do_mpc.model(model_type)"
   ]
  },
  {
   "cell_type": "markdown",
   "metadata": {},
   "source": [
    "### Model variables\n",
    "\n",
    "The next step is to define the model variables. It is important to define the variable type, name and optionally shape (default is scalar variable). The following types are available:\n",
    "\n",
    "|Long name  |                short name | Remark         |\n",
    "|-----------|---------------------------|----------------|\n",
    "|``states`` |                  ``_x``   |    Required    |\n",
    "|``inputs`` |                  ``_u``   |    Required    |\n",
    "|``algebraic``  |              ``_z``   |    Optional    |\n",
    "|``parameter``  |              ``_p``   |    Optional    |\n",
    "|``timevarying_parameter`` |   ``_tvp`` |    Optional    |\n"
   ]
  },
  {
   "cell_type": "code",
   "execution_count": 4,
   "metadata": {
    "scrolled": false
   },
   "outputs": [],
   "source": [
    "phi_1 = model.set_variable(var_type='_x', var_name='phi_1', shape=(1,1))\n",
    "phi_2 = model.set_variable(var_type='_x', var_name='phi_2', shape=(1,1))\n",
    "phi_3 = model.set_variable(var_type='_x', var_name='phi_3', shape=(1,1))\n",
    "# Variables can also be vectors:\n",
    "dphi = model.set_variable(var_type='_x', var_name='dphi', shape=(3,1))\n",
    "\n",
    "phi_m_1 = model.set_variable(var_type='_u', var_name='phi_m_1')\n",
    "phi_m_2 = model.set_variable(var_type='_u', var_name='phi_m_2')"
   ]
  },
  {
   "cell_type": "markdown",
   "metadata": {},
   "source": [
    "Note that `model.set_variable()` returns the symbolic variable:"
   ]
  },
  {
   "cell_type": "code",
   "execution_count": 5,
   "metadata": {},
   "outputs": [
    {
     "name": "stdout",
     "output_type": "stream",
     "text": [
      "phi_1=phi_1, with phi_1.shape=(1, 1)\n",
      "dphi=[dphi_0, dphi_1, dphi_2], with dphi.shape=(3, 1)\n"
     ]
    }
   ],
   "source": [
    "print('phi_1={}, with phi_1.shape={}'.format(phi_1, phi_1.shape))\n",
    "print('dphi={}, with dphi.shape={}'.format(dphi, dphi.shape))"
   ]
  },
  {
   "cell_type": "markdown",
   "metadata": {},
   "source": [
    "### Model parameters\n",
    "\n",
    "Next we **define parameters**. Known values can and should be hardcoded but with robust MPC in mind, we define uncertain parameters explictly. We assume that the inertia is such an uncertain parameter and hardcode the spring constant and friction coefficient."
   ]
  },
  {
   "cell_type": "code",
   "execution_count": 6,
   "metadata": {},
   "outputs": [],
   "source": [
    "# As shown in the table above, we can use Long names or short names for the variable type.\n",
    "Theta_1 = model.set_variable('parameter', 'Theta_1') \n",
    "Theta_2 = model.set_variable('parameter', 'Theta_2')\n",
    "Theta_3 = model.set_variable('parameter', 'Theta_3')\n",
    "\n",
    "c = np.array([2.697,  2.66,  3.05, 2.86])*1e-3\n",
    "d = np.array([6.78,  8.01,  8.82])*1e-5"
   ]
  },
  {
   "cell_type": "markdown",
   "metadata": {},
   "source": [
    "### Right-hand-side equation\n",
    "Finally, we set the right-hand-side of the model by calling `model.set_rhs(var_name, expr)` with the `var_name` from the state variables defined above and an expression in terms of $x, u, z, p$. "
   ]
  },
  {
   "cell_type": "code",
   "execution_count": 7,
   "metadata": {},
   "outputs": [],
   "source": [
    "model.set_rhs('phi_1', dphi[0])\n",
    "model.set_rhs('phi_2', dphi[1])\n",
    "model.set_rhs('phi_3', dphi[2])"
   ]
  },
  {
   "cell_type": "markdown",
   "metadata": {},
   "source": [
    "For the vector valued state `dphi` we need to concatenate symbolic expressions. We import the symbolic library CasADi: "
   ]
  },
  {
   "cell_type": "code",
   "execution_count": 8,
   "metadata": {},
   "outputs": [],
   "source": [
    "from casadi import *"
   ]
  },
  {
   "cell_type": "code",
   "execution_count": 9,
   "metadata": {},
   "outputs": [],
   "source": [
    "dphi_next = vertcat(\n",
    "    c[0]/Theta_1*(phi_1-phi_m_1)-c[1]/Theta_1*(phi_1-phi_2)-d[0]/Theta_1*dphi[0],\n",
    "    c[1]/Theta_2*(phi_2-phi_1)-c[2]/Theta_2*(phi_2-phi_3)-d[1]/Theta_2*dphi[1],\n",
    "    c[2]/Theta_3*(phi_3-phi_2)-c[3]/Theta_3*(phi_3-phi_m_2)-d[2]/Theta_3*dphi[2],\n",
    ")\n",
    "\n",
    "model.set_rhs('dphi', dphi_next)"
   ]
  },
  {
   "cell_type": "markdown",
   "metadata": {},
   "source": [
    "The model setup is completed by calling `model.setup_model()`:"
   ]
  },
  {
   "cell_type": "code",
   "execution_count": 10,
   "metadata": {},
   "outputs": [],
   "source": [
    "model.setup_model()"
   ]
  },
  {
   "cell_type": "markdown",
   "metadata": {},
   "source": [
    "After calling `model.setup_model()` we cannot define further variables etc."
   ]
  },
  {
   "cell_type": "markdown",
   "metadata": {},
   "source": [
    "## Configuring the Optimizer\n",
    "With the configured and setup model we can now create the optimizer for Model Predictive Control (MPC). We start by creating the object (with the `model` as the only input)"
   ]
  },
  {
   "cell_type": "code",
   "execution_count": 11,
   "metadata": {},
   "outputs": [],
   "source": [
    "optimizer = do_mpc.optimizer(model)"
   ]
  },
  {
   "cell_type": "markdown",
   "metadata": {},
   "source": [
    "### Optimizer parameters\n",
    "\n",
    "Next, we need to parametrize the `optimizer`. Please see the API documentation for `optimizer.set_param()` for a full description of available parameters and their meaning. Many parameters already have suggested default values. Most importantly, we need to set `n_horizon` and `t_step`. We also choose `n_robust=1` for this example, which would default to `0`.\n",
    "\n",
    "Note that by default the continuous system is discretized with `collocation`."
   ]
  },
  {
   "cell_type": "code",
   "execution_count": 12,
   "metadata": {},
   "outputs": [],
   "source": [
    "setup_optimizer = {\n",
    "    'n_horizon': 20,\n",
    "    't_step': 0.1,\n",
    "    'n_robust': 1,\n",
    "    'store_full_solution': True,\n",
    "}\n",
    "optimizer.set_param(**setup_optimizer)"
   ]
  },
  {
   "cell_type": "markdown",
   "metadata": {},
   "source": [
    "### Objective function\n",
    "The MPC formulation is at its core an optimization problem for which we need to define an objective function. \n",
    "\n",
    "The full optimization problem is given below:\n",
    "\n",
    "$$\n",
    "\\min_{x,u,z}\\quad \\sum_{k=0}^{n-1}\\left( \\underbrace{m(x_k,u_k,z_k,p)}_{\\text{meyer term}} \n",
    "+ \\underbrace{\\Delta u_k^T R \\Delta u_k}_{\\text{r-term}}\\right) \n",
    "+ \\underbrace{l(x_n)}_{\\text{lagrange term}} \n",
    "$$\n",
    "\n",
    "We need to define the meyer term (`mterm`) and lagrange term (`lterm`). For the given example we set:\n",
    "\n",
    "$$\n",
    "m(x_k,u_k,z_k,p) = \\sum x_k^2\\\\\n",
    "m(x_n) = \\sum x_n^2\n",
    "$$"
   ]
  },
  {
   "cell_type": "code",
   "execution_count": 13,
   "metadata": {},
   "outputs": [],
   "source": [
    "mterm = phi_1**2 + phi_2**2 + phi_3**2 + dphi[0]**2 + dphi[1]**2 + dphi[2]**2\n",
    "lterm = phi_1**2 + phi_2**2 + phi_3**2 + dphi[0]**2 + dphi[1]**2 + dphi[2]**2\n",
    "\n",
    "optimizer.set_objective(mterm=mterm, lterm=lterm)"
   ]
  },
  {
   "cell_type": "markdown",
   "metadata": {},
   "source": [
    "Part of the objective function is also the penality for the control inputs. This penalty can often be used to *smoothen* the obtained optimal solution and is an important tuning parameter. We add a quadratic penalty on changes:\n",
    "\n",
    "$$\n",
    "\\Delta u_k = u_k - u_{k-1}\n",
    "$$\n",
    "\n",
    "we automatically supply the solver with the previous solution of $u_{k-1}$ for $\\Delta u_0$.\n",
    "\n",
    "The user can set the tuning factor for these quadratic terms like this:"
   ]
  },
  {
   "cell_type": "code",
   "execution_count": 14,
   "metadata": {},
   "outputs": [],
   "source": [
    "optimizer.set_rterm(\n",
    "    phi_m_1=1e-3,\n",
    "    phi_m_2=1e-3\n",
    ")"
   ]
  },
  {
   "cell_type": "markdown",
   "metadata": {},
   "source": [
    "where the keyword arguments refer to the previously defined input names."
   ]
  },
  {
   "cell_type": "markdown",
   "metadata": {},
   "source": [
    "### Constraints\n",
    "It is an important feature of MPC to be able to set constraints on inputs and states. In **do mpc** these constraints are set like this:"
   ]
  },
  {
   "cell_type": "code",
   "execution_count": 15,
   "metadata": {},
   "outputs": [],
   "source": [
    "# Lower bounds (lb) on states:\n",
    "#optimizer._x_lb['phi_1'] = -2*np.pi\n",
    "#optimizer._x_lb['phi_2'] = -2*np.pi\n",
    "#optimizer._x_lb['phi_3'] = -2*np.pi\n",
    "# Upper bounds (ub) on states:\n",
    "#optimizer._x_ub['phi_1'] = 2*np.pi\n",
    "#optimizer._x_ub['phi_2'] = 2*np.pi\n",
    "#optimizer._x_ub['phi_3'] = 2*np.pi\n",
    "\n",
    "# Lower bounds (lb) on inputs:\n",
    "#optimizer._u_lb['phi_m_1'] = -2*np.pi\n",
    "#optimizer._u_lb['phi_m_2'] = -2*np.pi\n",
    "# Upper bounds (ub) on inputs:\n",
    "#optimizer._u_ub['phi_m_1'] = 2*np.pi\n",
    "#optimizer._u_ub['phi_m_2'] = 2*np.pi"
   ]
  },
  {
   "cell_type": "markdown",
   "metadata": {},
   "source": [
    "### Uncertain Parameters\n",
    "An important feature of **do mpc** is scenario based robust MPC. Instead of predicting and controlling a single future trajectory, we investigate multiple possible trajectories depending on different uncertain parameters. These parameters were previously defined in the model (the mass inertia). Now we must provide the optimizer with different possible scenarios. \n",
    "\n",
    "This can be done in the following way:"
   ]
  },
  {
   "cell_type": "code",
   "execution_count": 16,
   "metadata": {},
   "outputs": [],
   "source": [
    "inertia_mass_1 = 2.25*1e-4*np.array([1., 1.1, 0.9])\n",
    "inertia_mass_2 = 2.25*1e-4*np.array([1., 1.1, 0.9])\n",
    "inertia_mass_3 = 2.25*1e-4*np.array([1.])\n",
    "\n",
    "optimizer.set_uncertainty_values([inertia_mass_1, inertia_mass_2, inertia_mass_3])"
   ]
  },
  {
   "cell_type": "markdown",
   "metadata": {},
   "source": [
    "We provide a list to the method `optimizer.set_uncertain_parameter()`, where each entry is a `numpy.ndarray` with the possible values. The first value is the nominal case, where further values will lead to an increasing number of scenarios. Since we investigate each combination of possible parameters, the number of scenarios is growing rapidly. For our example, we are therefore only treating the inertia of mass 1 and 2 as uncertain and supply only one possible value for the mass of inertia 3."
   ]
  },
  {
   "cell_type": "markdown",
   "metadata": {},
   "source": [
    "### Setup\n",
    "The last step of configuring the optimizer is to call `optimizer.setup`, which finalizes the setup and creates the optimization problem. Only now can we use the optimizer to obtain the control input."
   ]
  },
  {
   "cell_type": "code",
   "execution_count": 17,
   "metadata": {},
   "outputs": [],
   "source": [
    "optimizer.setup()"
   ]
  },
  {
   "cell_type": "markdown",
   "metadata": {},
   "source": [
    "## Configuring the Simulator\n",
    "In many cases a developed control approach is first tested on a simulated system. **do mpc** responds to this need with the `do_mpc.simulator` class. The `simulator` uses state-of-the-art DAE solvers, e.g. Sundials [CVODE](https://computing.llnl.gov/projects/sundials/cvode) to solve the DAE equations defined in the supplied `do_mpc.model`. This will often be the same model as defined for the `optimizer` but it is also possible to use a more complex model of the same system.\n",
    "\n",
    "In this section we demonstrate how to setup the `simulator` class for the given example. We initilize the class with the previously defined `model`:"
   ]
  },
  {
   "cell_type": "code",
   "execution_count": 18,
   "metadata": {},
   "outputs": [],
   "source": [
    "simulator = do_mpc.simulator(model)"
   ]
  },
  {
   "cell_type": "markdown",
   "metadata": {},
   "source": [
    "### Simulator parameters\n",
    "\n",
    "Next, we need to parametrize the `simulator`. Please see the API documentation for `simulator.set_param()` for a full description of available parameters and their meaning. Many parameters already have suggested default values. Most importantly, we need to set `t_step`. We choose the same value as for the `optimizer`."
   ]
  },
  {
   "cell_type": "code",
   "execution_count": 19,
   "metadata": {},
   "outputs": [],
   "source": [
    "# Instead of supplying a dict with the splat operator (**), as with the optimizer.set_param(),\n",
    "# we can also use keywords (and call the method multiple times, if necessary):\n",
    "simulator.set_param(t_step = 0.1)"
   ]
  },
  {
   "cell_type": "markdown",
   "metadata": {},
   "source": [
    "### Uncertain parameters\n",
    "In the `model` we have defined the inertia of the masses as parameters, for which we have choosen multiple scenarios in the `optmizer`. The `simulator` is now parametrized to simulate with the \"true\" values at each timestep. In the most general case, these values can change, which is why we need to supply a function that can be evaluted at each time to obtain the current values. \n",
    "**do mpc** requires this function to have a specific return structure which we obtain first by calling:"
   ]
  },
  {
   "cell_type": "code",
   "execution_count": 20,
   "metadata": {},
   "outputs": [],
   "source": [
    "p_template = simulator.get_p_template()"
   ]
  },
  {
   "cell_type": "markdown",
   "metadata": {},
   "source": [
    "This object is a CasADi structure:"
   ]
  },
  {
   "cell_type": "code",
   "execution_count": 21,
   "metadata": {},
   "outputs": [
    {
     "data": {
      "text/plain": [
       "casadi.tools.structure3.DMStruct"
      ]
     },
     "execution_count": 21,
     "metadata": {},
     "output_type": "execute_result"
    }
   ],
   "source": [
    "type(p_template)"
   ]
  },
  {
   "cell_type": "markdown",
   "metadata": {},
   "source": [
    "which can be indexed with the following keys:"
   ]
  },
  {
   "cell_type": "code",
   "execution_count": 22,
   "metadata": {},
   "outputs": [
    {
     "data": {
      "text/plain": [
       "['default', 'Theta_1', 'Theta_2', 'Theta_3']"
      ]
     },
     "execution_count": 22,
     "metadata": {},
     "output_type": "execute_result"
    }
   ],
   "source": [
    "p_template.keys()"
   ]
  },
  {
   "cell_type": "markdown",
   "metadata": {},
   "source": [
    "We need to now write a function which returns this structure with the desired numerial values. For our simple case:"
   ]
  },
  {
   "cell_type": "code",
   "execution_count": 23,
   "metadata": {},
   "outputs": [],
   "source": [
    "def p_fun(t_now):\n",
    "    p_template['Theta_1'] = 2.2525e-4\n",
    "    p_template['Theta_2'] = 2.2525e-4\n",
    "    p_template['Theta_3'] = 2.2525e-4\n",
    "    return p_template"
   ]
  },
  {
   "cell_type": "markdown",
   "metadata": {},
   "source": [
    "This function is now supplied to the `simulator` in the following way:"
   ]
  },
  {
   "cell_type": "code",
   "execution_count": 24,
   "metadata": {},
   "outputs": [],
   "source": [
    "simulator.set_p_fun(p_fun)"
   ]
  },
  {
   "cell_type": "markdown",
   "metadata": {},
   "source": [
    "### Setup\n",
    "Similarly to the `optimizer` we need to call `simulator.setup()` to finalize the setup of the simulator."
   ]
  },
  {
   "cell_type": "code",
   "execution_count": 25,
   "metadata": {},
   "outputs": [],
   "source": [
    "simulator.setup()"
   ]
  },
  {
   "cell_type": "markdown",
   "metadata": {},
   "source": [
    "## Creating the control loop\n",
    "In theory, we could now also create an estimator but for this concise example we just assume direct state-feedback. This means we are now ready to setup and run the control loop. As discussed before, we setup a controller for regulating a triple-mass-spring system. To show some interesting control action we choose an arbitrary initial state $x_0\\neq 0$:"
   ]
  },
  {
   "cell_type": "code",
   "execution_count": 26,
   "metadata": {},
   "outputs": [],
   "source": [
    "x0 = np.array([1, -1, 1.5, 1, -1, 1]).reshape(-1,1)"
   ]
  },
  {
   "cell_type": "markdown",
   "metadata": {},
   "source": [
    "and use the `.set_initial_state()` method to set the initial state (which also calls `optimizer.set_initial_guess()`."
   ]
  },
  {
   "cell_type": "code",
   "execution_count": 27,
   "metadata": {},
   "outputs": [],
   "source": [
    "simulator.set_initial_state(x0)\n",
    "optimizer.set_initial_state(x0)"
   ]
  },
  {
   "cell_type": "markdown",
   "metadata": {},
   "source": [
    "we can now let the following loop run:"
   ]
  },
  {
   "cell_type": "code",
   "execution_count": 28,
   "metadata": {
    "scrolled": true
   },
   "outputs": [],
   "source": [
    "#for i in range(20):\n",
    "#    u0 = optimizer.make_step(x0)\n",
    "#    x0 = simulator.make_step(u0)"
   ]
  },
  {
   "cell_type": "code",
   "execution_count": 29,
   "metadata": {},
   "outputs": [],
   "source": [
    "import matplotlib.pyplot as plt"
   ]
  },
  {
   "cell_type": "code",
   "execution_count": 37,
   "metadata": {
    "scrolled": false
   },
   "outputs": [
    {
     "name": "stdout",
     "output_type": "stream",
     "text": [
      "This is Ipopt version 3.12.12, running with linear solver mumps.\n",
      "NOTE: Other linear solvers might be more efficient (see Ipopt documentation).\n",
      "\n",
      "Number of nonzeros in equality constraint Jacobian...:    15126\n",
      "Number of nonzeros in inequality constraint Jacobian.:        0\n",
      "Number of nonzeros in Lagrangian Hessian.............:     1772\n",
      "\n",
      "Total number of variables............................:     4896\n",
      "                     variables with only lower bounds:        0\n",
      "                variables with lower and upper bounds:        0\n",
      "                     variables with only upper bounds:        0\n",
      "Total number of equality constraints.................:     4326\n",
      "Total number of inequality constraints...............:        0\n",
      "        inequality constraints with only lower bounds:        0\n",
      "   inequality constraints with lower and upper bounds:        0\n",
      "        inequality constraints with only upper bounds:        0\n",
      "\n",
      "iter    objective    inf_pr   inf_du lg(mu)  ||d||  lg(rg) alpha_du alpha_pr  ls\n",
      "   0  2.8328214e+03 1.34e+02 6.36e-02  -1.0 0.00e+00    -  0.00e+00 0.00e+00   0\n",
      "   1  1.3086035e+04 2.84e-13 3.19e-02  -1.0 3.19e+02  -4.0 1.00e+00 1.00e+00h  1\n",
      "   2  1.3085411e+04 8.53e-14 5.64e-05  -2.5 1.69e+00  -4.5 1.00e+00 1.00e+00f  1\n",
      "   3  1.3085411e+04 1.14e-13 7.78e-08  -5.7 7.00e-03  -5.0 1.00e+00 1.00e+00f  1\n",
      "   4  1.3085411e+04 1.14e-13 4.43e-11  -8.6 1.20e-05  -5.4 1.00e+00 1.00e+00h  1\n",
      "\n",
      "Number of Iterations....: 4\n",
      "\n",
      "                                   (scaled)                 (unscaled)\n",
      "Objective...............:   1.3085411174738529e+04    1.3085411174738529e+04\n",
      "Dual infeasibility......:   4.4327874704208625e-11    4.4327874704208625e-11\n",
      "Constraint violation....:   1.1368683772161603e-13    1.1368683772161603e-13\n",
      "Complementarity.........:   0.0000000000000000e+00    0.0000000000000000e+00\n",
      "Overall NLP error.......:   4.4327874704208625e-11    4.4327874704208625e-11\n",
      "\n",
      "\n",
      "Number of objective function evaluations             = 5\n",
      "Number of objective gradient evaluations             = 5\n",
      "Number of equality constraint evaluations            = 5\n",
      "Number of inequality constraint evaluations          = 0\n",
      "Number of equality constraint Jacobian evaluations   = 5\n",
      "Number of inequality constraint Jacobian evaluations = 0\n",
      "Number of Lagrangian Hessian evaluations             = 4\n",
      "Total CPU secs in IPOPT (w/o function evaluations)   =      1.577\n",
      "Total CPU secs in NLP function evaluations           =      0.009\n",
      "\n",
      "EXIT: Optimal Solution Found.\n",
      "               t_proc [s]   t_wall [s]    n_eval\n",
      "           S         1.71        0.673         1\n",
      "       nlp_f     0.000228     0.000113         5\n",
      "       nlp_g      0.00159     0.000707         5\n",
      "    nlp_grad     0.000591     0.000294         1\n",
      "  nlp_grad_f      0.00206      0.00102         6\n",
      "  nlp_hess_l     0.000173     9.76e-05         4\n",
      "   nlp_jac_g      0.00913      0.00451         6\n"
     ]
    },
    {
     "data": {
      "image/png": "[encoded data removed]",
      "text/plain": [
       "<Figure size 432x288 with 2 Axes>"
      ]
     },
     "metadata": {
      "needs_background": "light"
     },
     "output_type": "display_data"
    }
   ],
   "source": [
    "fig, ax = plt.subplots(2, sharex=True)\n",
    "graphics = do_mpc.backend_graphics()\n",
    "graphics.add_line(var_type='_x', var_name='phi_1', axis=ax[0])\n",
    "graphics.add_line(var_type='_x', var_name='phi_2', axis=ax[0])\n",
    "graphics.add_line(var_type='_x', var_name='phi_3', axis=ax[0])\n",
    "graphics.add_line(var_type='_u', var_name='phi_m_1', axis=ax[1])\n",
    "graphics.add_line(var_type='_u', var_name='phi_m_2', axis=ax[1])\n",
    "ax[0].set_ylabel('angle position [rad/s]')\n",
    "ax[1].set_ylabel('motor angle [rad]')\n",
    "\n",
    "u0 = optimizer.make_step(x0)\n",
    "x0 = simulator.make_step(u0)\n",
    "\n",
    "_ = graphics.plot_predictions(optimizer.data)"
   ]
  },
  {
   "cell_type": "code",
   "execution_count": null,
   "metadata": {},
   "outputs": [],
   "source": []
  }
 ],
 "metadata": {
  "kernelspec": {
   "display_name": "Python 3",
   "language": "python",
   "name": "python3"
  },
  "language_info": {
   "codemirror_mode": {
    "name": "ipython",
    "version": 3
   },
   "file_extension": ".py",
   "mimetype": "text/x-python",
   "name": "python",
   "nbconvert_exporter": "python",
   "pygments_lexer": "ipython3",
   "version": "3.7.4"
  }
 },
 "nbformat": 4,
 "nbformat_minor": 2
}
